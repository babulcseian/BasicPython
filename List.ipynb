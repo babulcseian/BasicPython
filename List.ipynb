{
 "cells": [
  {
   "cell_type": "markdown",
   "id": "65959154",
   "metadata": {},
   "source": [
    "# List "
   ]
  },
  {
   "cell_type": "code",
   "execution_count": null,
   "id": "bbe82191",
   "metadata": {},
   "outputs": [],
   "source": [
    "\"\"\"(Different objects categorized along a certain ordered sequence, lists are ordered, iterable, mutable \n",
    "(adding or removing objects changes the list size), \n",
    "can contain multiple data types.\"\"\""
   ]
  },
  {
   "cell_type": "code",
   "execution_count": 1,
   "id": "773447d9",
   "metadata": {},
   "outputs": [],
   "source": [
    "# create an empty list (two ways)\n",
    "empty_list = []\n",
    "empty_list = list()"
   ]
  },
  {
   "cell_type": "code",
   "execution_count": 19,
   "id": "6623d72c",
   "metadata": {},
   "outputs": [],
   "source": [
    "# create a list\n",
    "simpsons = ['bob', 'Babul', 'bart']"
   ]
  },
  {
   "cell_type": "code",
   "execution_count": 20,
   "id": "62abea8c",
   "metadata": {},
   "outputs": [
    {
     "name": "stdout",
     "output_type": "stream",
     "text": [
      "['bob', 'Babul', 'bart']\n"
     ]
    }
   ],
   "source": [
    "print(simpsons)"
   ]
  },
  {
   "cell_type": "code",
   "execution_count": 21,
   "id": "c12fe24d",
   "metadata": {},
   "outputs": [
    {
     "name": "stdout",
     "output_type": "stream",
     "text": [
      "<class 'list'>\n"
     ]
    }
   ],
   "source": [
    "print(type(simpsons))"
   ]
  },
  {
   "cell_type": "code",
   "execution_count": 22,
   "id": "5ec1f8fc",
   "metadata": {
    "scrolled": true
   },
   "outputs": [
    {
     "data": {
      "text/plain": [
       "'bob'"
      ]
     },
     "execution_count": 22,
     "metadata": {},
     "output_type": "execute_result"
    }
   ],
   "source": [
    "simpsons[0]"
   ]
  },
  {
   "cell_type": "code",
   "execution_count": 23,
   "id": "9d32155f",
   "metadata": {},
   "outputs": [
    {
     "data": {
      "text/plain": [
       "3"
      ]
     },
     "execution_count": 23,
     "metadata": {},
     "output_type": "execute_result"
    }
   ],
   "source": [
    "len(simpsons)"
   ]
  },
  {
   "cell_type": "raw",
   "id": "10ee86ff",
   "metadata": {},
   "source": [
    "# Modify a list (does not return the list):"
   ]
  },
  {
   "cell_type": "code",
   "execution_count": 24,
   "id": "6807b0fa",
   "metadata": {},
   "outputs": [
    {
     "data": {
      "text/plain": [
       "['bob', 'Babul', 'bart', 'lisa']"
      ]
     },
     "execution_count": 24,
     "metadata": {},
     "output_type": "execute_result"
    }
   ],
   "source": [
    "# append element to end\n",
    "simpsons.append('lisa')\n",
    "simpsons"
   ]
  },
  {
   "cell_type": "code",
   "execution_count": 25,
   "id": "406d52e8",
   "metadata": {},
   "outputs": [
    {
     "data": {
      "text/plain": [
       "['bob', 'Babul', 'bart', 'lisa', 'abul', 'rahim']"
      ]
     },
     "execution_count": 25,
     "metadata": {},
     "output_type": "execute_result"
    }
   ],
   "source": [
    "# append multiple elements to end\n",
    "simpsons.extend(['abul', 'rahim'])\n",
    "simpsons"
   ]
  },
  {
   "cell_type": "code",
   "execution_count": 26,
   "id": "a141226c",
   "metadata": {},
   "outputs": [
    {
     "data": {
      "text/plain": [
       "['bob', 'Karim', 'Babul', 'bart', 'lisa', 'abul', 'rahim']"
      ]
     },
     "execution_count": 26,
     "metadata": {},
     "output_type": "execute_result"
    }
   ],
   "source": [
    "simpsons.insert(1, 'Karim')\n",
    "simpsons"
   ]
  },
  {
   "cell_type": "code",
   "execution_count": 27,
   "id": "1eea9679",
   "metadata": {},
   "outputs": [
    {
     "data": {
      "text/plain": [
       "['bob', 'Karim', 'Babul', 'bart', 'abul', 'rahim']"
      ]
     },
     "execution_count": 27,
     "metadata": {},
     "output_type": "execute_result"
    }
   ],
   "source": [
    "# search for first instance and remove it\n",
    "simpsons.remove('lisa')\n",
    "simpsons"
   ]
  },
  {
   "cell_type": "code",
   "execution_count": 28,
   "id": "49235f63",
   "metadata": {},
   "outputs": [
    {
     "data": {
      "text/plain": [
       "'bob'"
      ]
     },
     "execution_count": 28,
     "metadata": {},
     "output_type": "execute_result"
    }
   ],
   "source": [
    "# remove element 0 and return it\n",
    "simpsons.pop(0)"
   ]
  },
  {
   "cell_type": "code",
   "execution_count": 29,
   "id": "d8b3d09a",
   "metadata": {},
   "outputs": [
    {
     "data": {
      "text/plain": [
       "['Karim', 'Babul', 'bart', 'abul', 'rahim']"
      ]
     },
     "execution_count": 29,
     "metadata": {},
     "output_type": "execute_result"
    }
   ],
   "source": [
    "simpsons"
   ]
  },
  {
   "cell_type": "code",
   "execution_count": 30,
   "id": "5aa4b450",
   "metadata": {},
   "outputs": [
    {
     "data": {
      "text/plain": [
       "['Babul', 'bart', 'abul', 'rahim']"
      ]
     },
     "execution_count": 30,
     "metadata": {},
     "output_type": "execute_result"
    }
   ],
   "source": [
    "del simpsons[0]\n",
    "simpsons"
   ]
  },
  {
   "cell_type": "code",
   "execution_count": 31,
   "id": "4c294b16",
   "metadata": {},
   "outputs": [
    {
     "data": {
      "text/plain": [
       "['Babul', 'Shakib', 'abul', 'rahim']"
      ]
     },
     "execution_count": 31,
     "metadata": {},
     "output_type": "execute_result"
    }
   ],
   "source": [
    "# replace element 0\n",
    "simpsons[1] = 'Shakib'\n",
    "simpsons"
   ]
  },
  {
   "cell_type": "code",
   "execution_count": 39,
   "id": "a0d9a2e9",
   "metadata": {},
   "outputs": [
    {
     "data": {
      "text/plain": [
       "['Babul', 'Shakib', 'abul', 'rahim', 'Cricket', 'Footbal', 'Cricket']"
      ]
     },
     "execution_count": 39,
     "metadata": {},
     "output_type": "execute_result"
    }
   ],
   "source": [
    "neighbors = simpsons + ['Cricket', 'Footbal', 'Cricket']\n",
    "neighbors"
   ]
  },
  {
   "cell_type": "code",
   "execution_count": 41,
   "id": "e557ade2",
   "metadata": {},
   "outputs": [],
   "source": [
    "Sports = neighbors + ['HADUDU']"
   ]
  },
  {
   "cell_type": "code",
   "execution_count": 42,
   "id": "f69a1a2c",
   "metadata": {},
   "outputs": [
    {
     "name": "stdout",
     "output_type": "stream",
     "text": [
      "['Babul', 'Shakib', 'abul', 'rahim', 'Cricket', 'Footbal', 'Cricket', 'HADUDU']\n"
     ]
    }
   ],
   "source": [
    "print(Sports)"
   ]
  },
  {
   "cell_type": "code",
   "execution_count": 47,
   "id": "c84c36a5",
   "metadata": {},
   "outputs": [
    {
     "data": {
      "text/plain": [
       "0"
      ]
     },
     "execution_count": 47,
     "metadata": {},
     "output_type": "execute_result"
    }
   ],
   "source": [
    "# counts the number of instances\n",
    "simpsons.count('Abul')"
   ]
  },
  {
   "cell_type": "code",
   "execution_count": 49,
   "id": "38069e43",
   "metadata": {},
   "outputs": [
    {
     "data": {
      "text/plain": [
       "3"
      ]
     },
     "execution_count": 49,
     "metadata": {},
     "output_type": "execute_result"
    }
   ],
   "source": [
    "# returns index of first instance\n",
    "simpsons.index('rahim')"
   ]
  },
  {
   "cell_type": "markdown",
   "id": "4cc86948",
   "metadata": {},
   "source": [
    "# List slicing:"
   ]
  },
  {
   "cell_type": "code",
   "execution_count": 59,
   "id": "a8eef3a0",
   "metadata": {},
   "outputs": [
    {
     "name": "stdout",
     "output_type": "stream",
     "text": [
      "mon\n"
     ]
    }
   ],
   "source": [
    "weekdays = ['mon', 'tues', 'wed', 'thurs', 'fri']"
   ]
  },
  {
   "cell_type": "code",
   "execution_count": 65,
   "id": "ab701370",
   "metadata": {},
   "outputs": [
    {
     "data": {
      "text/plain": [
       "'mon'"
      ]
     },
     "execution_count": 65,
     "metadata": {},
     "output_type": "execute_result"
    }
   ],
   "source": [
    "weekdays[0]"
   ]
  },
  {
   "cell_type": "code",
   "execution_count": 66,
   "id": "022589f1",
   "metadata": {},
   "outputs": [],
   "source": [
    "MonthName=['Jan', 'Feb', 'Mar', 'Apr', 'May', 'Jun', 'Jul', 'Aug', 'Sep.', 'Oct', 'Nov', 'Dec']"
   ]
  },
  {
   "cell_type": "code",
   "execution_count": 67,
   "id": "2ae1326b",
   "metadata": {},
   "outputs": [
    {
     "data": {
      "text/plain": [
       "'Jan'"
      ]
     },
     "execution_count": 67,
     "metadata": {},
     "output_type": "execute_result"
    }
   ],
   "source": [
    "MonthName[0]"
   ]
  },
  {
   "cell_type": "code",
   "execution_count": 69,
   "id": "d2856dfc",
   "metadata": {},
   "outputs": [
    {
     "data": {
      "text/plain": [
       "'Dec'"
      ]
     },
     "execution_count": 69,
     "metadata": {},
     "output_type": "execute_result"
    }
   ],
   "source": [
    "MonthName[11]"
   ]
  },
  {
   "cell_type": "code",
   "execution_count": 78,
   "id": "cb399572",
   "metadata": {},
   "outputs": [
    {
     "data": {
      "text/plain": [
       "'Jul'"
      ]
     },
     "execution_count": 78,
     "metadata": {},
     "output_type": "execute_result"
    }
   ],
   "source": [
    "MonthName[6]"
   ]
  },
  {
   "cell_type": "code",
   "execution_count": 77,
   "id": "87497da7",
   "metadata": {},
   "outputs": [
    {
     "data": {
      "text/plain": [
       "['Jan', 'Feb', 'Mar', 'Apr']"
      ]
     },
     "execution_count": 77,
     "metadata": {},
     "output_type": "execute_result"
    }
   ],
   "source": [
    "# elements 0 (inclusive) to 3 (exclusive)\n",
    "MonthName[0:4]"
   ]
  },
  {
   "cell_type": "code",
   "execution_count": 76,
   "id": "426a9c3b",
   "metadata": {},
   "outputs": [
    {
     "data": {
      "text/plain": [
       "['Jan', 'Feb', 'Mar']"
      ]
     },
     "execution_count": 76,
     "metadata": {},
     "output_type": "execute_result"
    }
   ],
   "source": [
    "# starting point is implied to be 0\n",
    "MonthName[:3]"
   ]
  },
  {
   "cell_type": "code",
   "execution_count": 75,
   "id": "8bc02748",
   "metadata": {},
   "outputs": [
    {
     "data": {
      "text/plain": [
       "['Apr', 'May', 'Jun', 'Jul', 'Aug', 'Sep.', 'Oct', 'Nov', 'Dec']"
      ]
     },
     "execution_count": 75,
     "metadata": {},
     "output_type": "execute_result"
    }
   ],
   "source": [
    "# elements 3 (inclusive) through the end\n",
    "MonthName[3:]"
   ]
  },
  {
   "cell_type": "code",
   "execution_count": 80,
   "id": "3e7b8ca9",
   "metadata": {},
   "outputs": [
    {
     "data": {
      "text/plain": [
       "'Dec'"
      ]
     },
     "execution_count": 80,
     "metadata": {},
     "output_type": "execute_result"
    }
   ],
   "source": [
    "# last element\n",
    "MonthName[-1]"
   ]
  },
  {
   "cell_type": "code",
   "execution_count": 81,
   "id": "11730b54",
   "metadata": {},
   "outputs": [
    {
     "data": {
      "text/plain": [
       "['Jan', 'Mar', 'May', 'Jul', 'Sep.', 'Nov']"
      ]
     },
     "execution_count": 81,
     "metadata": {},
     "output_type": "execute_result"
    }
   ],
   "source": [
    "# every 2nd element (step by 2)\n",
    "MonthName[::2]"
   ]
  },
  {
   "cell_type": "code",
   "execution_count": 82,
   "id": "70b4a0c8",
   "metadata": {},
   "outputs": [
    {
     "data": {
      "text/plain": [
       "['Dec',\n",
       " 'Nov',\n",
       " 'Oct',\n",
       " 'Sep.',\n",
       " 'Aug',\n",
       " 'Jul',\n",
       " 'Jun',\n",
       " 'May',\n",
       " 'Apr',\n",
       " 'Mar',\n",
       " 'Feb',\n",
       " 'Jan']"
      ]
     },
     "execution_count": 82,
     "metadata": {},
     "output_type": "execute_result"
    }
   ],
   "source": [
    "# backwards (step by -1)\n",
    "MonthName[::-1]"
   ]
  },
  {
   "cell_type": "code",
   "execution_count": 83,
   "id": "030a21fd",
   "metadata": {},
   "outputs": [
    {
     "data": {
      "text/plain": [
       "['Dec',\n",
       " 'Nov',\n",
       " 'Oct',\n",
       " 'Sep.',\n",
       " 'Aug',\n",
       " 'Jul',\n",
       " 'Jun',\n",
       " 'May',\n",
       " 'Apr',\n",
       " 'Mar',\n",
       " 'Feb',\n",
       " 'Jan']"
      ]
     },
     "execution_count": 83,
     "metadata": {},
     "output_type": "execute_result"
    }
   ],
   "source": [
    "# alternative method for returning the list backwards\n",
    "list(reversed(MonthName))"
   ]
  },
  {
   "cell_type": "markdown",
   "id": "89dfa6ba",
   "metadata": {},
   "source": [
    "Sort a list in place (modifies but does not return the list):"
   ]
  },
  {
   "cell_type": "code",
   "execution_count": 84,
   "id": "d0d73cb4",
   "metadata": {},
   "outputs": [
    {
     "data": {
      "text/plain": [
       "['Babul', 'Shakib', 'abul', 'rahim']"
      ]
     },
     "execution_count": 84,
     "metadata": {},
     "output_type": "execute_result"
    }
   ],
   "source": [
    "simpsons.sort()\n",
    "simpsons"
   ]
  },
  {
   "cell_type": "code",
   "execution_count": 85,
   "id": "d846b441",
   "metadata": {},
   "outputs": [
    {
     "data": {
      "text/plain": [
       "['rahim', 'abul', 'Shakib', 'Babul']"
      ]
     },
     "execution_count": 85,
     "metadata": {},
     "output_type": "execute_result"
    }
   ],
   "source": [
    "simpsons.sort(reverse=True)\n",
    "simpsons"
   ]
  },
  {
   "cell_type": "code",
   "execution_count": 86,
   "id": "7778551e",
   "metadata": {},
   "outputs": [
    {
     "data": {
      "text/plain": [
       "['abul', 'rahim', 'Babul', 'Shakib']"
      ]
     },
     "execution_count": 86,
     "metadata": {},
     "output_type": "execute_result"
    }
   ],
   "source": [
    "# sort by a key\n",
    "simpsons.sort(key=len)\n",
    "simpsons"
   ]
  },
  {
   "cell_type": "markdown",
   "id": "22448ccf",
   "metadata": {},
   "source": [
    "Return a sorted list (does not modify the original list):"
   ]
  },
  {
   "cell_type": "code",
   "execution_count": 87,
   "id": "ba4f8cf0",
   "metadata": {},
   "outputs": [
    {
     "data": {
      "text/plain": [
       "['Babul', 'Shakib', 'abul', 'rahim']"
      ]
     },
     "execution_count": 87,
     "metadata": {},
     "output_type": "execute_result"
    }
   ],
   "source": [
    "sorted(simpsons)"
   ]
  },
  {
   "cell_type": "code",
   "execution_count": 88,
   "id": "f7ccb647",
   "metadata": {},
   "outputs": [
    {
     "data": {
      "text/plain": [
       "['rahim', 'abul', 'Shakib', 'Babul']"
      ]
     },
     "execution_count": 88,
     "metadata": {},
     "output_type": "execute_result"
    }
   ],
   "source": [
    "sorted(simpsons, reverse=True)"
   ]
  },
  {
   "cell_type": "code",
   "execution_count": 89,
   "id": "1d54f037",
   "metadata": {},
   "outputs": [
    {
     "data": {
      "text/plain": [
       "['abul', 'rahim', 'Babul', 'Shakib']"
      ]
     },
     "execution_count": 89,
     "metadata": {},
     "output_type": "execute_result"
    }
   ],
   "source": [
    "sorted(simpsons, key=len)"
   ]
  },
  {
   "cell_type": "markdown",
   "id": "e8e0266d",
   "metadata": {},
   "source": [
    "Insert into an already sorted list, and keep it sorted:"
   ]
  },
  {
   "cell_type": "code",
   "execution_count": 90,
   "id": "f8f6f9c2",
   "metadata": {},
   "outputs": [
    {
     "data": {
      "text/plain": [
       "[10, 20, 30, 40, 50]"
      ]
     },
     "execution_count": 90,
     "metadata": {},
     "output_type": "execute_result"
    }
   ],
   "source": [
    "num = [10, 20, 40, 50]\n",
    "from bisect import insort\n",
    "insort(num, 30)\n",
    "num"
   ]
  },
  {
   "cell_type": "code",
   "execution_count": 91,
   "id": "d32775d2",
   "metadata": {},
   "outputs": [],
   "source": [
    "# create a second reference to the same list\n",
    "same_num = num"
   ]
  },
  {
   "cell_type": "code",
   "execution_count": 92,
   "id": "961ecbce",
   "metadata": {},
   "outputs": [
    {
     "name": "stdout",
     "output_type": "stream",
     "text": [
      "[0, 20, 30, 40, 50]\n",
      "[0, 20, 30, 40, 50]\n"
     ]
    }
   ],
   "source": [
    "# modifies both 'num' and 'same_num'\n",
    "same_num[0] = 0\n",
    "print(num)\n",
    "print(same_num)"
   ]
  },
  {
   "cell_type": "code",
   "execution_count": 93,
   "id": "31082454",
   "metadata": {},
   "outputs": [],
   "source": [
    "# copy a list (two ways)\n",
    "new_num = num[:]\n",
    "new_num = list(num)"
   ]
  },
  {
   "cell_type": "code",
   "execution_count": null,
   "id": "66592f07",
   "metadata": {},
   "outputs": [],
   "source": []
  },
  {
   "cell_type": "code",
   "execution_count": null,
   "id": "97f37b03",
   "metadata": {},
   "outputs": [],
   "source": []
  },
  {
   "cell_type": "code",
   "execution_count": null,
   "id": "0516bc89",
   "metadata": {},
   "outputs": [],
   "source": []
  },
  {
   "cell_type": "code",
   "execution_count": null,
   "id": "2d29ac63",
   "metadata": {},
   "outputs": [],
   "source": []
  }
 ],
 "metadata": {
  "kernelspec": {
   "display_name": "Python 3 (ipykernel)",
   "language": "python",
   "name": "python3"
  },
  "language_info": {
   "codemirror_mode": {
    "name": "ipython",
    "version": 3
   },
   "file_extension": ".py",
   "mimetype": "text/x-python",
   "name": "python",
   "nbconvert_exporter": "python",
   "pygments_lexer": "ipython3",
   "version": "3.9.13"
  }
 },
 "nbformat": 4,
 "nbformat_minor": 5
}
