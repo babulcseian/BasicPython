{
 "cells": [
  {
   "cell_type": "markdown",
   "id": "1c3084aa",
   "metadata": {},
   "source": [
    "# Basic Operations "
   ]
  },
  {
   "cell_type": "code",
   "execution_count": 3,
   "id": "2d19582e",
   "metadata": {},
   "outputs": [
    {
     "data": {
      "text/plain": [
       "14"
      ]
     },
     "execution_count": 3,
     "metadata": {},
     "output_type": "execute_result"
    }
   ],
   "source": [
    "# Numbers\n",
    "10 + 4          # add (returns 14)"
   ]
  },
  {
   "cell_type": "code",
   "execution_count": 2,
   "id": "694e4dcd",
   "metadata": {},
   "outputs": [
    {
     "data": {
      "text/plain": [
       "1"
      ]
     },
     "execution_count": 2,
     "metadata": {},
     "output_type": "execute_result"
    }
   ],
   "source": []
  },
  {
   "cell_type": "code",
   "execution_count": 4,
   "id": "da668797",
   "metadata": {},
   "outputs": [
    {
     "data": {
      "text/plain": [
       "40"
      ]
     },
     "execution_count": 4,
     "metadata": {},
     "output_type": "execute_result"
    }
   ],
   "source": [
    "10 * 4          # multiply (returns 40)"
   ]
  },
  {
   "cell_type": "code",
   "execution_count": 5,
   "id": "e20b6f8b",
   "metadata": {},
   "outputs": [
    {
     "data": {
      "text/plain": [
       "10000"
      ]
     },
     "execution_count": 5,
     "metadata": {},
     "output_type": "execute_result"
    }
   ],
   "source": [
    "10 ** 4         # exponent (returns 10000)"
   ]
  },
  {
   "cell_type": "code",
   "execution_count": 21,
   "id": "3dc23ca1",
   "metadata": {},
   "outputs": [],
   "source": [
    "N=10 / 4          \n",
    "# divide (returns 2 because both types are 'int')"
   ]
  },
  {
   "cell_type": "code",
   "execution_count": 25,
   "id": "c6857862",
   "metadata": {},
   "outputs": [
    {
     "name": "stdout",
     "output_type": "stream",
     "text": [
      "2.5\n",
      "<class 'float'>\n"
     ]
    }
   ],
   "source": [
    "print(N)\n",
    "print(type(N))"
   ]
  },
  {
   "cell_type": "code",
   "execution_count": 19,
   "id": "dab8dd3e",
   "metadata": {},
   "outputs": [
    {
     "data": {
      "text/plain": [
       "2.5"
      ]
     },
     "execution_count": 19,
     "metadata": {},
     "output_type": "execute_result"
    }
   ],
   "source": [
    "10 / (4)   #divide (returns 2.5)"
   ]
  },
  {
   "cell_type": "code",
   "execution_count": 27,
   "id": "97342409",
   "metadata": {},
   "outputs": [
    {
     "data": {
      "text/plain": [
       "2.5"
      ]
     },
     "execution_count": 27,
     "metadata": {},
     "output_type": "execute_result"
    }
   ],
   "source": [
    "10 /4          # true division (returns 2.5)"
   ]
  },
  {
   "cell_type": "code",
   "execution_count": 17,
   "id": "d72ad419",
   "metadata": {},
   "outputs": [
    {
     "data": {
      "text/plain": [
       "2"
      ]
     },
     "execution_count": 17,
     "metadata": {},
     "output_type": "execute_result"
    }
   ],
   "source": [
    "10 // 4         # floor division (returns 2)"
   ]
  },
  {
   "cell_type": "markdown",
   "id": "7737f11b",
   "metadata": {},
   "source": [
    "# Boolean operations"
   ]
  },
  {
   "cell_type": "code",
   "execution_count": null,
   "id": "6ec52be4",
   "metadata": {},
   "outputs": [],
   "source": [
    "# comparisons (these return True)\n",
    "5 > 3\n",
    "5 >= 3\n",
    "5 != 3\n",
    "5 == 5"
   ]
  },
  {
   "cell_type": "code",
   "execution_count": 28,
   "id": "d5ca65fe",
   "metadata": {},
   "outputs": [
    {
     "data": {
      "text/plain": [
       "True"
      ]
     },
     "execution_count": 28,
     "metadata": {},
     "output_type": "execute_result"
    }
   ],
   "source": [
    "5 > 3"
   ]
  },
  {
   "cell_type": "code",
   "execution_count": 29,
   "id": "1c854127",
   "metadata": {},
   "outputs": [
    {
     "data": {
      "text/plain": [
       "True"
      ]
     },
     "execution_count": 29,
     "metadata": {},
     "output_type": "execute_result"
    }
   ],
   "source": [
    "5 >= 3"
   ]
  },
  {
   "cell_type": "code",
   "execution_count": 36,
   "id": "df77a1af",
   "metadata": {},
   "outputs": [
    {
     "data": {
      "text/plain": [
       "False"
      ]
     },
     "execution_count": 36,
     "metadata": {},
     "output_type": "execute_result"
    }
   ],
   "source": [
    "5 < 3"
   ]
  },
  {
   "cell_type": "code",
   "execution_count": 30,
   "id": "1b180a6d",
   "metadata": {},
   "outputs": [
    {
     "data": {
      "text/plain": [
       "True"
      ]
     },
     "execution_count": 30,
     "metadata": {},
     "output_type": "execute_result"
    }
   ],
   "source": [
    "5 != 3"
   ]
  },
  {
   "cell_type": "code",
   "execution_count": 31,
   "id": "8d885a4b",
   "metadata": {},
   "outputs": [
    {
     "data": {
      "text/plain": [
       "True"
      ]
     },
     "execution_count": 31,
     "metadata": {},
     "output_type": "execute_result"
    }
   ],
   "source": [
    "5 == 5"
   ]
  },
  {
   "cell_type": "code",
   "execution_count": 34,
   "id": "3549913f",
   "metadata": {},
   "outputs": [
    {
     "data": {
      "text/plain": [
       "True"
      ]
     },
     "execution_count": 34,
     "metadata": {},
     "output_type": "execute_result"
    }
   ],
   "source": [
    "5 != 3\n",
    "5 == 5"
   ]
  },
  {
   "cell_type": "markdown",
   "id": "bf0fd8b2",
   "metadata": {},
   "source": [
    "# boolean operations (these return True)"
   ]
  },
  {
   "cell_type": "code",
   "execution_count": null,
   "id": "84e7c308",
   "metadata": {},
   "outputs": [],
   "source": [
    "5 > 3 and 6 > 3\n",
    "5 > 3 or 5 < 3\n",
    "not False\n",
    "False or not False and True     # evaluation order: not, and, or"
   ]
  },
  {
   "cell_type": "code",
   "execution_count": 37,
   "id": "e8b700e5",
   "metadata": {},
   "outputs": [
    {
     "data": {
      "text/plain": [
       "True"
      ]
     },
     "execution_count": 37,
     "metadata": {},
     "output_type": "execute_result"
    }
   ],
   "source": [
    "5 > 3 and 6 > 3"
   ]
  },
  {
   "cell_type": "code",
   "execution_count": 38,
   "id": "9db5dc7b",
   "metadata": {},
   "outputs": [
    {
     "data": {
      "text/plain": [
       "True"
      ]
     },
     "execution_count": 38,
     "metadata": {},
     "output_type": "execute_result"
    }
   ],
   "source": [
    "5 > 3 or 5 < 3"
   ]
  },
  {
   "cell_type": "code",
   "execution_count": 39,
   "id": "8b652634",
   "metadata": {},
   "outputs": [
    {
     "data": {
      "text/plain": [
       "False"
      ]
     },
     "execution_count": 39,
     "metadata": {},
     "output_type": "execute_result"
    }
   ],
   "source": [
    "5 >7 or 5 < 3"
   ]
  },
  {
   "cell_type": "code",
   "execution_count": 40,
   "id": "466a5365",
   "metadata": {},
   "outputs": [
    {
     "data": {
      "text/plain": [
       "True"
      ]
     },
     "execution_count": 40,
     "metadata": {},
     "output_type": "execute_result"
    }
   ],
   "source": [
    "5 > 7 or 5 < 9"
   ]
  },
  {
   "cell_type": "code",
   "execution_count": null,
   "id": "14438a06",
   "metadata": {},
   "outputs": [],
   "source": []
  }
 ],
 "metadata": {
  "kernelspec": {
   "display_name": "Python 3 (ipykernel)",
   "language": "python",
   "name": "python3"
  },
  "language_info": {
   "codemirror_mode": {
    "name": "ipython",
    "version": 3
   },
   "file_extension": ".py",
   "mimetype": "text/x-python",
   "name": "python",
   "nbconvert_exporter": "python",
   "pygments_lexer": "ipython3",
   "version": "3.9.13"
  }
 },
 "nbformat": 4,
 "nbformat_minor": 5
}
