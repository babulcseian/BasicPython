{
 "cells": [
  {
   "cell_type": "code",
   "execution_count": null,
   "metadata": {},
   "outputs": [],
   "source": [
    "%matplotlib inline"
   ]
  },
  {
   "cell_type": "markdown",
   "metadata": {},
   "source": [
    "\n",
    "# Numpy: arrays and matrices\n",
    "\n",
    "Presented by Babul\n",
    "NumPy is an extension to the Python programming language, adding support for large, multi-dimensional (numerical) arrays and matrices, along with a large library of high-level mathematical functions to operate on these arrays.\n",
    "\n",
    "\n",
    "\n",
    "Computation time:\n",
    "\n",
    "    import numpy as np\n",
    "\n",
    "    l = [v for v in range(10 ** 8)]\n",
    "    s = 0\n",
    "    %time for v in l: s += v\n",
    "\n",
    "    arr = np.arange(10 ** 8)\n",
    "    %time arr.sum()\n"
   ]
  },
  {
   "cell_type": "markdown",
   "metadata": {},
   "source": [
    "## Create arrays\n",
    "\n",
    "Create ndarrays from lists.\n",
    "note: every element must be the same type (will be converted if possible)\n",
    "\n"
   ]
  },
  {
   "cell_type": "code",
   "execution_count": 2,
   "metadata": {},
   "outputs": [
    {
     "data": {
      "text/plain": [
       "array([1, 2, 3, 4, 5])"
      ]
     },
     "execution_count": 2,
     "metadata": {},
     "output_type": "execute_result"
    }
   ],
   "source": [
    "import numpy as np\n",
    "\n",
    "data1 = [1, 2, 3, 4, 5]             # list\n",
    "arr1 = np.array(data1)              # 1d array\n",
    "arr1"
   ]
  },
  {
   "cell_type": "code",
   "execution_count": 3,
   "metadata": {},
   "outputs": [
    {
     "data": {
      "text/plain": [
       "[[1, 2, 3, 4], [5, 6, 7, 8]]"
      ]
     },
     "execution_count": 3,
     "metadata": {},
     "output_type": "execute_result"
    }
   ],
   "source": [
    "data2 = [range(1, 5), range(5, 9)]  # list of lists\n",
    "arr2 = np.array(data2)              # 2d array\n",
    "arr2.tolist()                       # convert array back to list"
   ]
  },
  {
   "cell_type": "markdown",
   "metadata": {},
   "source": [
    "create special arrays\n",
    "\n"
   ]
  },
  {
   "cell_type": "code",
   "execution_count": 4,
   "metadata": {},
   "outputs": [
    {
     "data": {
      "text/plain": [
       "array([   1.,   10.,  100., 1000.])"
      ]
     },
     "execution_count": 4,
     "metadata": {},
     "output_type": "execute_result"
    }
   ],
   "source": [
    "np.zeros(10)\n",
    "np.zeros((3, 6))\n",
    "np.ones(10)\n",
    "np.linspace(0, 1, 5)            # 0 to 1 (inclusive) with 5 points\n",
    "np.logspace(0, 3, 4)            # 10^0 to 10^3 (inclusive) with 4 points"
   ]
  },
  {
   "cell_type": "markdown",
   "metadata": {},
   "source": [
    "arange is like range, except it returns an array (not a list)\n",
    "\n"
   ]
  },
  {
   "cell_type": "code",
   "execution_count": 6,
   "metadata": {},
   "outputs": [],
   "source": [
    "int_array = np.arange(5)\n",
    "float_array = int_array.astype(float)"
   ]
  },
  {
   "cell_type": "markdown",
   "metadata": {},
   "source": [
    "## Examining arrays\n",
    "\n"
   ]
  },
  {
   "cell_type": "code",
   "execution_count": 7,
   "metadata": {},
   "outputs": [
    {
     "data": {
      "text/plain": [
       "2"
      ]
     },
     "execution_count": 7,
     "metadata": {},
     "output_type": "execute_result"
    }
   ],
   "source": [
    "arr1.dtype      # float64\n",
    "arr2.ndim       # 2\n",
    "arr2.shape      # (2, 4) - axis 0 is rows, axis 1 is columns\n",
    "arr2.size       # 8 - total number of elements\n",
    "len(arr2)       # 2 - size of first dimension (aka axis)"
   ]
  },
  {
   "cell_type": "markdown",
   "metadata": {},
   "source": [
    "## Reshaping\n",
    "\n"
   ]
  },
  {
   "cell_type": "code",
   "execution_count": 9,
   "metadata": {
    "scrolled": true
   },
   "outputs": [
    {
     "name": "stdout",
     "output_type": "stream",
     "text": [
      "(2, 5)\n"
     ]
    }
   ],
   "source": [
    "arr = np.arange(10, dtype=float).reshape((2, 5))\n",
    "print(arr.shape)"
   ]
  },
  {
   "cell_type": "code",
   "execution_count": 10,
   "metadata": {},
   "outputs": [
    {
     "name": "stdout",
     "output_type": "stream",
     "text": [
      "[[0. 1.]\n",
      " [2. 3.]\n",
      " [4. 5.]\n",
      " [6. 7.]\n",
      " [8. 9.]]\n"
     ]
    }
   ],
   "source": [
    "print(arr.reshape(5, 2))"
   ]
  },
  {
   "cell_type": "markdown",
   "metadata": {},
   "source": [
    "Add an axis\n",
    "\n"
   ]
  },
  {
   "cell_type": "code",
   "execution_count": 11,
   "metadata": {},
   "outputs": [
    {
     "name": "stdout",
     "output_type": "stream",
     "text": [
      "[[0]\n",
      " [1]]\n"
     ]
    }
   ],
   "source": [
    "a = np.array([0, 1])\n",
    "a_col = a[:, np.newaxis]\n",
    "print(a_col)\n",
    "#or\n",
    "a_col = a[:, None]"
   ]
  },
  {
   "cell_type": "markdown",
   "metadata": {},
   "source": [
    "Transpose\n",
    "\n"
   ]
  },
  {
   "cell_type": "code",
   "execution_count": 12,
   "metadata": {},
   "outputs": [
    {
     "name": "stdout",
     "output_type": "stream",
     "text": [
      "[[0 1]]\n"
     ]
    }
   ],
   "source": [
    "print(a_col.T)"
   ]
  },
  {
   "cell_type": "markdown",
   "metadata": {},
   "source": [
    "Flatten: always returns a flat copy of the orriginal array\n",
    "\n"
   ]
  },
  {
   "cell_type": "code",
   "execution_count": 13,
   "metadata": {},
   "outputs": [
    {
     "name": "stdout",
     "output_type": "stream",
     "text": [
      "[33.  1.  2.  3.  4.  5.  6.  7.  8.  9.]\n",
      "[[0. 1. 2. 3. 4.]\n",
      " [5. 6. 7. 8. 9.]]\n"
     ]
    }
   ],
   "source": [
    "arr_flt = arr.flatten()\n",
    "arr_flt[0] = 33\n",
    "print(arr_flt)\n",
    "print(arr)"
   ]
  },
  {
   "cell_type": "markdown",
   "metadata": {},
   "source": [
    "Ravel: returns a view of the original array whenever possible.\n",
    "\n"
   ]
  },
  {
   "cell_type": "code",
   "execution_count": 14,
   "metadata": {},
   "outputs": [
    {
     "name": "stdout",
     "output_type": "stream",
     "text": [
      "[33.  1.  2.  3.  4.  5.  6.  7.  8.  9.]\n",
      "[[33.  1.  2.  3.  4.]\n",
      " [ 5.  6.  7.  8.  9.]]\n"
     ]
    }
   ],
   "source": [
    "arr_flt = arr.ravel()\n",
    "arr_flt[0] = 33\n",
    "print(arr_flt)\n",
    "print(arr)"
   ]
  },
  {
   "cell_type": "markdown",
   "metadata": {},
   "source": [
    "## Summary on axis, reshaping/flattening and selection\n",
    "\n",
    "Numpy internals: By default Numpy use C convention, ie, Row-major language:\n",
    "The matrix is stored by rows. In C, the last index changes most rapidly as one moves through the array as stored in memory.\n",
    "\n",
    "For 2D arrays, sequential move in the memory will:\n",
    "\n",
    "- iterate over rows (axis 0)\n",
    "   - iterate over columns (axis 1)\n",
    "\n",
    "For 3D arrays, sequential move in the memory will:\n",
    "\n",
    "- iterate over plans (axis 0)\n",
    "   - iterate over rows (axis 1)\n",
    "       - iterate over columns (axis 2)\n",
    "\n",
    "\n",
    ".. figure:: ../images/numpy_array3d.png\n",
    "\n"
   ]
  },
  {
   "cell_type": "code",
   "execution_count": 15,
   "metadata": {},
   "outputs": [
    {
     "name": "stdout",
     "output_type": "stream",
     "text": [
      "[ 0  1  2  3  4  5  6  7  8  9 10 11 12 13 14 15 16 17 18 19 20 21 22 23]\n"
     ]
    }
   ],
   "source": [
    "x = np.arange(2 * 3 * 4)\n",
    "print(x)"
   ]
  },
  {
   "cell_type": "markdown",
   "metadata": {},
   "source": [
    "Reshape into 3D (axis 0, axis 1, axis 2)\n",
    "\n"
   ]
  },
  {
   "cell_type": "code",
   "execution_count": 16,
   "metadata": {},
   "outputs": [
    {
     "name": "stdout",
     "output_type": "stream",
     "text": [
      "[[[ 0  1  2  3]\n",
      "  [ 4  5  6  7]\n",
      "  [ 8  9 10 11]]\n",
      "\n",
      " [[12 13 14 15]\n",
      "  [16 17 18 19]\n",
      "  [20 21 22 23]]]\n"
     ]
    }
   ],
   "source": [
    "x = x.reshape(2, 3, 4)\n",
    "print(x)"
   ]
  },
  {
   "cell_type": "markdown",
   "metadata": {},
   "source": [
    "Selection get first plan\n",
    "\n"
   ]
  },
  {
   "cell_type": "code",
   "execution_count": 17,
   "metadata": {},
   "outputs": [
    {
     "name": "stdout",
     "output_type": "stream",
     "text": [
      "[[ 0  1  2  3]\n",
      " [ 4  5  6  7]\n",
      " [ 8  9 10 11]]\n"
     ]
    }
   ],
   "source": [
    "print(x[0, :, :])"
   ]
  },
  {
   "cell_type": "markdown",
   "metadata": {},
   "source": [
    "Selection get first rows\n",
    "\n"
   ]
  },
  {
   "cell_type": "code",
   "execution_count": 18,
   "metadata": {},
   "outputs": [
    {
     "name": "stdout",
     "output_type": "stream",
     "text": [
      "[[ 0  1  2  3]\n",
      " [12 13 14 15]]\n"
     ]
    }
   ],
   "source": [
    "print(x[:, 0, :])"
   ]
  },
  {
   "cell_type": "markdown",
   "metadata": {},
   "source": [
    "Selection get first columns\n",
    "\n"
   ]
  },
  {
   "cell_type": "code",
   "execution_count": 19,
   "metadata": {},
   "outputs": [
    {
     "name": "stdout",
     "output_type": "stream",
     "text": [
      "[[ 0  4  8]\n",
      " [12 16 20]]\n"
     ]
    }
   ],
   "source": [
    "print(x[:, :, 0])"
   ]
  },
  {
   "cell_type": "markdown",
   "metadata": {},
   "source": [
    "Simple example with 2 array\n",
    "\n",
    "Exercise:\n",
    "\n",
    "- Get second line\n",
    "- Get third column\n",
    "\n"
   ]
  },
  {
   "cell_type": "code",
   "execution_count": 20,
   "metadata": {},
   "outputs": [
    {
     "name": "stdout",
     "output_type": "stream",
     "text": [
      "[[0. 1. 2. 3. 4.]\n",
      " [5. 6. 7. 8. 9.]]\n"
     ]
    },
    {
     "data": {
      "text/plain": [
       "array([2., 7.])"
      ]
     },
     "execution_count": 20,
     "metadata": {},
     "output_type": "execute_result"
    }
   ],
   "source": [
    "arr = np.arange(10, dtype=float).reshape((2, 5))\n",
    "print(arr)\n",
    "\n",
    "arr[1, :]\n",
    "arr[:, 2]"
   ]
  },
  {
   "cell_type": "markdown",
   "metadata": {},
   "source": [
    "Ravel\n",
    "\n"
   ]
  },
  {
   "cell_type": "code",
   "execution_count": 21,
   "metadata": {},
   "outputs": [
    {
     "name": "stdout",
     "output_type": "stream",
     "text": [
      "[ 0  1  2  3  4  5  6  7  8  9 10 11 12 13 14 15 16 17 18 19 20 21 22 23]\n"
     ]
    }
   ],
   "source": [
    "print(x.ravel())"
   ]
  },
  {
   "cell_type": "markdown",
   "metadata": {},
   "source": [
    "## Stack arrays\n",
    "\n",
    "\n"
   ]
  },
  {
   "cell_type": "code",
   "execution_count": 22,
   "metadata": {},
   "outputs": [],
   "source": [
    "a = np.array([0, 1])\n",
    "b = np.array([2, 3])"
   ]
  },
  {
   "cell_type": "markdown",
   "metadata": {},
   "source": [
    "Horizontal stacking\n",
    "\n"
   ]
  },
  {
   "cell_type": "code",
   "execution_count": 23,
   "metadata": {},
   "outputs": [
    {
     "data": {
      "text/plain": [
       "array([0, 1, 2, 3])"
      ]
     },
     "execution_count": 23,
     "metadata": {},
     "output_type": "execute_result"
    }
   ],
   "source": [
    "np.hstack([a, b])"
   ]
  },
  {
   "cell_type": "markdown",
   "metadata": {},
   "source": [
    "Vertical stacking\n",
    "\n"
   ]
  },
  {
   "cell_type": "code",
   "execution_count": 24,
   "metadata": {},
   "outputs": [
    {
     "data": {
      "text/plain": [
       "array([[0, 1],\n",
       "       [2, 3]])"
      ]
     },
     "execution_count": 24,
     "metadata": {},
     "output_type": "execute_result"
    }
   ],
   "source": [
    "np.vstack([a, b])"
   ]
  },
  {
   "cell_type": "markdown",
   "metadata": {},
   "source": [
    "Default Vertical\n",
    "\n"
   ]
  },
  {
   "cell_type": "code",
   "execution_count": null,
   "metadata": {},
   "outputs": [],
   "source": [
    "np.stack([a, b])"
   ]
  },
  {
   "cell_type": "markdown",
   "metadata": {},
   "source": [
    "## Selection\n",
    "\n",
    "Single item\n",
    "\n"
   ]
  },
  {
   "cell_type": "code",
   "execution_count": 25,
   "metadata": {},
   "outputs": [
    {
     "data": {
      "text/plain": [
       "3.0"
      ]
     },
     "execution_count": 25,
     "metadata": {},
     "output_type": "execute_result"
    }
   ],
   "source": [
    "arr = np.arange(10, dtype=float).reshape((2, 5))\n",
    "\n",
    "arr[0]         # 0th element (slices like a list)\n",
    "arr[0, 3]      # row 0, column 3: returns 4\n",
    "arr[0][3]      # alternative syntax"
   ]
  },
  {
   "cell_type": "markdown",
   "metadata": {},
   "source": [
    "### Slicing\n",
    "\n",
    "Syntax: ``start:stop:step`` with ``start`` *(default 0)* ``stop`` *(default last)* ``step`` *(default 1)*\n",
    "\n",
    "\n"
   ]
  },
  {
   "cell_type": "code",
   "execution_count": 26,
   "metadata": {},
   "outputs": [
    {
     "name": "stdout",
     "output_type": "stream",
     "text": [
      "[[1. 2. 3.]\n",
      " [6. 7. 8.]]\n"
     ]
    }
   ],
   "source": [
    "arr[0, :]      # row 0: returns 1d array ([1, 2, 3, 4])\n",
    "arr[:, 0]      # column 0: returns 1d array ([1, 5])\n",
    "arr[:, :2]     # columns strictly before index 2 (2 first columns)\n",
    "arr[:, 2:]     # columns after index 2 included\n",
    "arr2 = arr[:, 1:4]  # columns between index 1 (included) and 4 (excluded)\n",
    "print(arr2)"
   ]
  },
  {
   "cell_type": "markdown",
   "metadata": {},
   "source": [
    "Slicing returns a view (not a copy)\n",
    "Modification\n",
    "\n"
   ]
  },
  {
   "cell_type": "code",
   "execution_count": null,
   "metadata": {},
   "outputs": [],
   "source": [
    "arr2[0, 0] = 33\n",
    "print(arr2)\n",
    "print(arr)"
   ]
  },
  {
   "cell_type": "markdown",
   "metadata": {},
   "source": [
    "Row 0: reverse order\n",
    "\n"
   ]
  },
  {
   "cell_type": "code",
   "execution_count": null,
   "metadata": {},
   "outputs": [],
   "source": [
    "print(arr[0, ::-1])\n",
    "\n",
    "# The rule of thumb here can be: in the context of lvalue indexing (i.e. the indices are placed in the left hand side value of an assignment), no view or copy of the array is created (because there is no need to). However, with regular values, the above rules for creating views does apply."
   ]
  },
  {
   "cell_type": "markdown",
   "metadata": {},
   "source": [
    "### Fancy indexing: Integer or boolean array indexing\n",
    "\n",
    "Fancy indexing returns a copy not a view.\n",
    "\n",
    "Integer array indexing\n",
    "\n"
   ]
  },
  {
   "cell_type": "code",
   "execution_count": null,
   "metadata": {},
   "outputs": [],
   "source": [
    "arr2 = arr[:, [1, 2, 3]]  # return a copy\n",
    "print(arr2)\n",
    "arr2[0, 0] = 44\n",
    "print(arr2)\n",
    "print(arr)"
   ]
  },
  {
   "cell_type": "markdown",
   "metadata": {},
   "source": [
    "Boolean arrays indexing\n",
    "\n"
   ]
  },
  {
   "cell_type": "code",
   "execution_count": null,
   "metadata": {},
   "outputs": [],
   "source": [
    "arr2 = arr[arr > 5]  # return a copy\n",
    "\n",
    "print(arr2)\n",
    "arr2[0] = 44\n",
    "print(arr2)\n",
    "print(arr)"
   ]
  },
  {
   "cell_type": "markdown",
   "metadata": {},
   "source": [
    "However, In the context of lvalue indexing (left hand side value of an assignment)\n",
    "Fancy authorizes the modification of the original array\n",
    "\n"
   ]
  },
  {
   "cell_type": "code",
   "execution_count": null,
   "metadata": {},
   "outputs": [],
   "source": [
    "arr[arr > 5] = 0\n",
    "print(arr)"
   ]
  },
  {
   "cell_type": "markdown",
   "metadata": {},
   "source": [
    "Boolean arrays indexing continues\n",
    "\n"
   ]
  },
  {
   "cell_type": "code",
   "execution_count": null,
   "metadata": {},
   "outputs": [],
   "source": [
    "names = np.array(['Bob', 'Joe', 'Will', 'Bob'])\n",
    "names == 'Bob'                          # returns a boolean array\n",
    "names[names != 'Bob']                   # logical selection\n",
    "(names == 'Bob') | (names == 'Will')    # keywords \"and/or\" don't work with boolean arrays\n",
    "names[names != 'Bob'] = 'Joe'           # assign based on a logical selection\n",
    "np.unique(names)                        # set function"
   ]
  },
  {
   "cell_type": "markdown",
   "metadata": {},
   "source": [
    "## Vectorized operations\n",
    "\n"
   ]
  },
  {
   "cell_type": "code",
   "execution_count": null,
   "metadata": {},
   "outputs": [],
   "source": [
    "nums = np.arange(5)\n",
    "nums * 10                           # multiply each element by 10\n",
    "nums = np.sqrt(nums)                # square root of each element\n",
    "np.ceil(nums)                       # also floor, rint (round to nearest int)\n",
    "np.isnan(nums)                      # checks for NaN\n",
    "nums + np.arange(5)                 # add element-wise\n",
    "np.maximum(nums, np.array([1, -2, 3, -4, 5]))  # compare element-wise\n",
    "\n",
    "# Compute Euclidean distance between 2 vectors\n",
    "vec1 = np.random.randn(10)\n",
    "vec2 = np.random.randn(10)\n",
    "dist = np.sqrt(np.sum((vec1 - vec2) ** 2))\n",
    "\n",
    "# math and stats\n",
    "rnd = np.random.randn(4, 2) # random normals in 4x2 array\n",
    "rnd.mean()\n",
    "rnd.std()\n",
    "rnd.argmin()                # index of minimum element\n",
    "rnd.sum()\n",
    "rnd.sum(axis=0)             # sum of columns\n",
    "rnd.sum(axis=1)             # sum of rows\n",
    "\n",
    "# methods for boolean arrays\n",
    "(rnd > 0).sum()             # counts number of positive values\n",
    "(rnd > 0).any()             # checks if any value is True\n",
    "(rnd > 0).all()             # checks if all values are True\n",
    "\n",
    "# random numbers\n",
    "np.random.seed(12234)       # Set the seed\n",
    "np.random.rand(2, 3)        # 2 x 3 matrix in [0, 1]\n",
    "np.random.randn(10)         # random normals (mean 0, sd 1)\n",
    "np.random.randint(0, 2, 10) # 10 randomly picked 0 or 1"
   ]
  },
  {
   "cell_type": "markdown",
   "metadata": {},
   "source": [
    "## Broadcasting\n",
    "\n",
    "Sources: https://docs.scipy.org/doc/numpy-1.13.0/user/basics.broadcasting.html\n",
    "Implicit conversion to allow operations on arrays of different sizes.\n",
    "- The smaller array is stretched or “broadcasted” across the larger array so that they have compatible shapes.\n",
    "- Fast vectorized operation in C instead of Python.\n",
    "- No needless copies.\n",
    "\n",
    "### Rules\n",
    "\n",
    "Starting with the trailing axis and working backward, Numpy compares arrays dimensions.\n",
    "\n",
    "- If two dimensions are equal then continues\n",
    "\n",
    "- If one of the operand has dimension 1 stretches it to match the largest one\n",
    "\n",
    "- When one of the shapes runs out of dimensions (because it has less dimensions than the other shape), Numpy will use 1 in the comparison process until the other shape's dimensions run out as well.\n",
    "\n",
    "\n",
    ".. figure:: ../images/numpy_broadcasting.png\n",
    "\n",
    "  Source: http://www.scipy-lectures.org\n",
    "\n"
   ]
  },
  {
   "cell_type": "code",
   "execution_count": 27,
   "metadata": {},
   "outputs": [
    {
     "name": "stdout",
     "output_type": "stream",
     "text": [
      "[[ 0  1  2]\n",
      " [10 11 12]\n",
      " [20 21 22]\n",
      " [30 31 32]]\n"
     ]
    }
   ],
   "source": [
    "a = np.array([[ 0,  0,  0],\n",
    "              [10, 10, 10],\n",
    "              [20, 20, 20],\n",
    "              [30, 30, 30]])\n",
    "\n",
    "b = np.array([0, 1, 2])\n",
    "\n",
    "print(a + b)"
   ]
  },
  {
   "cell_type": "markdown",
   "metadata": {},
   "source": [
    "Center data column-wise\n",
    "\n"
   ]
  },
  {
   "cell_type": "code",
   "execution_count": 28,
   "metadata": {},
   "outputs": [
    {
     "data": {
      "text/plain": [
       "array([[-15., -15., -15.],\n",
       "       [ -5.,  -5.,  -5.],\n",
       "       [  5.,   5.,   5.],\n",
       "       [ 15.,  15.,  15.]])"
      ]
     },
     "execution_count": 28,
     "metadata": {},
     "output_type": "execute_result"
    }
   ],
   "source": [
    "a - a.mean(axis=0)"
   ]
  },
  {
   "cell_type": "markdown",
   "metadata": {},
   "source": [
    "Scale (center, normalise) data column-wise\n",
    "\n"
   ]
  },
  {
   "cell_type": "code",
   "execution_count": 29,
   "metadata": {},
   "outputs": [
    {
     "data": {
      "text/plain": [
       "array([[-1.34164079, -1.34164079, -1.34164079],\n",
       "       [-0.4472136 , -0.4472136 , -0.4472136 ],\n",
       "       [ 0.4472136 ,  0.4472136 ,  0.4472136 ],\n",
       "       [ 1.34164079,  1.34164079,  1.34164079]])"
      ]
     },
     "execution_count": 29,
     "metadata": {},
     "output_type": "execute_result"
    }
   ],
   "source": [
    "(a - a.mean(axis=0)) / a.std(axis=0)"
   ]
  },
  {
   "cell_type": "markdown",
   "metadata": {},
   "source": [
    "Examples\n",
    "\n",
    "#### Shapes of operands A, B and result:\n",
    "  A      (2d array):  5 x 4\n",
    "  B      (1d array):      1\n",
    "  Result (2d array):  5 x 4\n",
    "\n",
    "  A      (2d array):  5 x 4\n",
    "  B      (1d array):      4\n",
    "  Result (2d array):  5 x 4\n",
    "\n",
    "  A      (3d array):  15 x 3 x 5\n",
    "  B      (3d array):  15 x 1 x 5\n",
    "  Result (3d array):  15 x 3 x 5\n",
    "\n",
    "  A      (3d array):  15 x 3 x 5\n",
    "  B      (2d array):       3 x 5\n",
    "  Result (3d array):  15 x 3 x 5\n",
    "\n",
    "  A      (3d array):  15 x 3 x 5\n",
    "  B      (2d array):       3 x 1\n",
    "  Result (3d array):  15 x 3 x 5\n",
    "\n"
   ]
  },
  {
   "cell_type": "markdown",
   "metadata": {},
   "source": [
    "## Exercises\n",
    "Given the array:\n",
    "\n"
   ]
  },
  {
   "cell_type": "code",
   "execution_count": 30,
   "metadata": {},
   "outputs": [],
   "source": [
    "X = np.random.randn(4, 2) # random normals in 4x2 array"
   ]
  },
  {
   "cell_type": "markdown",
   "metadata": {},
   "source": [
    "- For each column find the row index of the minimum value.\n",
    "\n",
    "- Write a function ``standardize(X)`` that return an array whose columns are centered and scaled (by std-dev).\n",
    "\n"
   ]
  }
 ],
 "metadata": {
  "kernelspec": {
   "display_name": "Python 3 (ipykernel)",
   "language": "python",
   "name": "python3"
  },
  "language_info": {
   "codemirror_mode": {
    "name": "ipython",
    "version": 3
   },
   "file_extension": ".py",
   "mimetype": "text/x-python",
   "name": "python",
   "nbconvert_exporter": "python",
   "pygments_lexer": "ipython3",
   "version": "3.9.13"
  }
 },
 "nbformat": 4,
 "nbformat_minor": 1
}
