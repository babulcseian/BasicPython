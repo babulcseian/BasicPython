{
 "cells": [
  {
   "cell_type": "code",
   "execution_count": 2,
   "metadata": {},
   "outputs": [],
   "source": [
    "%matplotlib inline"
   ]
  },
  {
   "cell_type": "markdown",
   "metadata": {},
   "source": [
    "\n",
    "# Pandas: data manipulation\n",
    "\n",
    "It is often said that 80% of data analysis is spent on the cleaning and\n",
    "small, but important, aspect of data manipulation and cleaning with Pandas.\n",
    "\n",
    "\n",
    "**Data structures**\n",
    "\n",
    "- **Series** is a one-dimensional labeled array capable of holding any data\n",
    "  type (integers, strings, floating point numbers, Python objects, etc.).\n",
    "  The axis labels are collectively referred to as the index. The basic method\n",
    "  to create a Series is to call `pd.Series([1,3,5,np.nan,6,8])`\n",
    "\n",
    "- **DataFrame** is a 2-dimensional labeled data structure with columns of\n",
    "  potentially different types. You can think of it like a spreadsheet or SQL\n",
    "  table, or a dict of Series objects. It stems from the `R data.frame()`\n",
    "  object.\n"
   ]
  },
  {
   "cell_type": "code",
   "execution_count": 3,
   "metadata": {},
   "outputs": [],
   "source": [
    "import pandas as pd\n",
    "import numpy as np"
   ]
  },
  {
   "cell_type": "markdown",
   "metadata": {},
   "source": [
    "## Create DataFrame\n",
    "\n"
   ]
  },
  {
   "cell_type": "code",
   "execution_count": 40,
   "metadata": {},
   "outputs": [
    {
     "name": "stdout",
     "output_type": "stream",
     "text": [
      "    name  age gender      job\n",
      "0  alice   19      F  student\n",
      "1   john   26      M  student\n",
      "/n    name  age gender      job\n",
      "0  eric   22      M  student\n",
      "1  paul   58      F  manager\n"
     ]
    }
   ],
   "source": [
    "columns = ['name', 'age', 'gender', 'job']\n",
    "\n",
    "user1 = pd.DataFrame([['alice', 19, \"F\", \"student\"],\n",
    "                      ['john', 26, \"M\", \"student\"]],\n",
    "                     columns=columns)\n",
    "\n",
    "user2 = pd.DataFrame([['eric', 22, \"M\", \"student\"],\n",
    "                      ['paul', 58, \"F\", \"manager\"]],\n",
    "                     columns=columns)\n",
    "\n",
    "user3 = pd.DataFrame(dict(name=['peter', 'julie'],\n",
    "                          age=[33, 44], gender=['M', 'F'],\n",
    "                          job=['engineer', 'scientist']))\n",
    "\n",
    "print(user1 )\n",
    "print(\"/n\", user2)"
   ]
  },
  {
   "cell_type": "markdown",
   "metadata": {},
   "source": [
    "## Combining DataFrames\n",
    "\n"
   ]
  },
  {
   "cell_type": "markdown",
   "metadata": {},
   "source": [
    "### Concatenate DataFrame\n",
    "\n"
   ]
  },
  {
   "cell_type": "markdown",
   "metadata": {},
   "source": [
    "Concatenate columns (axis = 1).\n",
    "\n"
   ]
  },
  {
   "cell_type": "code",
   "execution_count": 35,
   "metadata": {},
   "outputs": [
    {
     "name": "stdout",
     "output_type": "stream",
     "text": [
      "    name  age gender      job\n",
      "0  alice   19      F  student\n",
      "1   john   26      M  student \n",
      "    height\n",
      "0    1.65\n",
      "1    1.80\n",
      "    name  age gender      job  height\n",
      "0  alice   19      F  student    1.65\n",
      "1   john   26      M  student    1.80\n"
     ]
    }
   ],
   "source": [
    "height = pd.DataFrame(dict(height=[1.65, 1.8]))\n",
    "print(user1, \"\\n\", height)\n",
    "\n",
    "print(pd.concat([user1, height], axis=1))"
   ]
  },
  {
   "cell_type": "markdown",
   "metadata": {},
   "source": [
    "Concatenate rows (default: axis = 0)\n",
    "\n"
   ]
  },
  {
   "cell_type": "code",
   "execution_count": null,
   "metadata": {},
   "outputs": [],
   "source": [
    "users = pd.concat([user1, user2, user3])\n",
    "print(users)"
   ]
  },
  {
   "cell_type": "markdown",
   "metadata": {},
   "source": [
    "Concatenate rows: append\n",
    "\n"
   ]
  },
  {
   "cell_type": "code",
   "execution_count": null,
   "metadata": {},
   "outputs": [],
   "source": [
    "user1.append(user2)"
   ]
  },
  {
   "cell_type": "markdown",
   "metadata": {},
   "source": [
    "### Join DataFrame\n",
    "\n"
   ]
  },
  {
   "cell_type": "code",
   "execution_count": null,
   "metadata": {},
   "outputs": [],
   "source": [
    "user4 = pd.DataFrame(dict(name=['alice', 'john', 'eric', 'julie'],\n",
    "                          height=[165, 180, 175, 171]))\n",
    "print(user4)"
   ]
  },
  {
   "cell_type": "markdown",
   "metadata": {},
   "source": [
    "Use intersection of keys from both frames\n",
    "\n"
   ]
  },
  {
   "cell_type": "code",
   "execution_count": null,
   "metadata": {},
   "outputs": [],
   "source": [
    "merge_inter = pd.merge(users, user4)\n",
    "\n",
    "print(merge_inter)"
   ]
  },
  {
   "cell_type": "markdown",
   "metadata": {},
   "source": [
    "Use union of keys from both frames\n",
    "\n"
   ]
  },
  {
   "cell_type": "code",
   "execution_count": null,
   "metadata": {},
   "outputs": [],
   "source": [
    "users = pd.merge(users, user4, on=\"name\", how='outer')\n",
    "print(users)"
   ]
  },
  {
   "cell_type": "markdown",
   "metadata": {},
   "source": [
    "### Reshaping by pivoting\n",
    "\n",
    "“Unpivots” a DataFrame from wide format to long (stacked) format,\n",
    "\n"
   ]
  },
  {
   "cell_type": "code",
   "execution_count": null,
   "metadata": {},
   "outputs": [],
   "source": [
    "staked = pd.melt(users, id_vars=\"name\", var_name=\"variable\", value_name=\"value\")\n",
    "print(staked)"
   ]
  },
  {
   "cell_type": "markdown",
   "metadata": {},
   "source": [
    "“pivots” a DataFrame from long (stacked) format to wide format,\n",
    "\n"
   ]
  },
  {
   "cell_type": "code",
   "execution_count": null,
   "metadata": {},
   "outputs": [],
   "source": [
    "print(staked.pivot(index='name', columns='variable', values='value'))"
   ]
  },
  {
   "cell_type": "markdown",
   "metadata": {},
   "source": [
    "## Summarizing\n",
    "\n",
    "\n"
   ]
  },
  {
   "cell_type": "code",
   "execution_count": null,
   "metadata": {},
   "outputs": [],
   "source": [
    "users                   # print the first 30 and last 30 rows\n",
    "type(users)             # DataFrame\n",
    "users.head()            # print the first 5 rows\n",
    "users.tail()            # print the last 5 rows"
   ]
  },
  {
   "cell_type": "markdown",
   "metadata": {},
   "source": [
    "Descriptive statistics\n",
    "\n"
   ]
  },
  {
   "cell_type": "code",
   "execution_count": null,
   "metadata": {},
   "outputs": [],
   "source": [
    "users.describe(include=\"all\")"
   ]
  },
  {
   "cell_type": "markdown",
   "metadata": {},
   "source": [
    "Meta-information\n",
    "\n"
   ]
  },
  {
   "cell_type": "code",
   "execution_count": null,
   "metadata": {},
   "outputs": [],
   "source": [
    "users.index             # \"Row names\"\n",
    "users.columns           # column names\n",
    "users.dtypes            # data types of each column\n",
    "users.values            # underlying numpy array\n",
    "users.shape             # number of rows and columns"
   ]
  },
  {
   "cell_type": "markdown",
   "metadata": {},
   "source": [
    "## Columns selection\n",
    "\n"
   ]
  },
  {
   "cell_type": "code",
   "execution_count": null,
   "metadata": {},
   "outputs": [],
   "source": [
    "users['gender']         # select one column\n",
    "type(users['gender'])   # Series\n",
    "users.gender            # select one column using the DataFrame\n",
    "\n",
    "# select multiple columns\n",
    "users[['age', 'gender']]        # select two columns\n",
    "my_cols = ['age', 'gender']     # or, create a list...\n",
    "users[my_cols]                  # ...and use that list to select columns\n",
    "type(users[my_cols])            # DataFrame"
   ]
  },
  {
   "cell_type": "markdown",
   "metadata": {},
   "source": [
    "## Rows selection (basic)\n",
    "\n"
   ]
  },
  {
   "cell_type": "markdown",
   "metadata": {},
   "source": [
    "`iloc` is strictly integer position based\n",
    "\n"
   ]
  },
  {
   "cell_type": "code",
   "execution_count": null,
   "metadata": {},
   "outputs": [],
   "source": [
    "df = users.copy()\n",
    "df.iloc[0]     # first row\n",
    "df.iloc[0, :]  # first row\n",
    "df.iloc[0, 0]  # first item of first row\n",
    "df.iloc[0, 0] = 55"
   ]
  },
  {
   "cell_type": "markdown",
   "metadata": {},
   "source": [
    "`loc` supports mixed integer and label based access.\n",
    "\n"
   ]
  },
  {
   "cell_type": "code",
   "execution_count": null,
   "metadata": {},
   "outputs": [],
   "source": [
    "df.loc[0]         # first row\n",
    "df.loc[0, :]      # first row\n",
    "df.loc[0, \"age\"]  # age item of first row\n",
    "df.loc[0, \"age\"] = 55"
   ]
  },
  {
   "cell_type": "markdown",
   "metadata": {},
   "source": [
    "Selection and index\n",
    "\n",
    "Select females into a new DataFrame\n",
    "\n"
   ]
  },
  {
   "cell_type": "code",
   "execution_count": null,
   "metadata": {},
   "outputs": [],
   "source": [
    "df = users[users.gender == \"F\"]\n",
    "print(df)"
   ]
  },
  {
   "cell_type": "markdown",
   "metadata": {},
   "source": [
    "Get the two first rows using `iloc` (strictly integer position)\n",
    "\n"
   ]
  },
  {
   "cell_type": "code",
   "execution_count": null,
   "metadata": {},
   "outputs": [],
   "source": [
    "df.iloc[[0, 1], :]  # Ok, but watch the index: 0, 3"
   ]
  },
  {
   "cell_type": "markdown",
   "metadata": {},
   "source": [
    "Use `loc`\n",
    "\n"
   ]
  },
  {
   "cell_type": "code",
   "execution_count": null,
   "metadata": {},
   "outputs": [],
   "source": [
    "try:\n",
    "    df.loc[[0, 1], :]  # Failed\n",
    "except KeyError as err:\n",
    "    print(err)"
   ]
  },
  {
   "cell_type": "markdown",
   "metadata": {},
   "source": [
    "Reset index\n",
    "\n"
   ]
  },
  {
   "cell_type": "code",
   "execution_count": null,
   "metadata": {},
   "outputs": [],
   "source": [
    "df = df.reset_index(drop=True)  # Watch the index\n",
    "print(df)\n",
    "print(df.loc[[0, 1], :])"
   ]
  },
  {
   "cell_type": "markdown",
   "metadata": {},
   "source": [
    "## Sorting\n",
    "\n"
   ]
  },
  {
   "cell_type": "markdown",
   "metadata": {},
   "source": [
    "## Rows iteration\n",
    "\n"
   ]
  },
  {
   "cell_type": "code",
   "execution_count": null,
   "metadata": {},
   "outputs": [],
   "source": [
    "df = users[:2].copy()"
   ]
  },
  {
   "cell_type": "markdown",
   "metadata": {},
   "source": [
    "`iterrows()`: slow, get series, **read-only**\n",
    "\n",
    "- Returns (index, Series) pairs.\n",
    "- Slow because iterrows boxes the data into a Series.\n",
    "- Retrieve fields with column name\n",
    "- **Don't modify something you are iterating over**. Depending on the data types,\n",
    "  the iterator returns a copy and not a view, and writing to it will have no\n",
    "  effect.\n",
    "\n"
   ]
  },
  {
   "cell_type": "code",
   "execution_count": null,
   "metadata": {},
   "outputs": [],
   "source": [
    "for idx, row in df.iterrows():\n",
    "    print(row[\"name\"], row[\"age\"])"
   ]
  },
  {
   "cell_type": "markdown",
   "metadata": {},
   "source": [
    "`itertuples()`: fast, get namedtuples, **read-only**\n",
    "\n",
    "- Returns namedtuples of the values and which is generally faster than iterrows.\n",
    "- Fast, because itertuples does not box the data into a Series.\n",
    "- Retrieve fields with integer index starting from 0.\n",
    "- Names will be renamed to positional names if they are invalid Python\n",
    "identifier\n",
    "\n"
   ]
  },
  {
   "cell_type": "code",
   "execution_count": null,
   "metadata": {},
   "outputs": [],
   "source": [
    "for tup in df.itertuples():\n",
    "    print(tup[1], tup[2])"
   ]
  },
  {
   "cell_type": "markdown",
   "metadata": {},
   "source": [
    "iter using `loc[i, ...]`: read and **write**\n",
    "\n"
   ]
  },
  {
   "cell_type": "code",
   "execution_count": null,
   "metadata": {},
   "outputs": [],
   "source": [
    "for i in range(df.shape[0]):\n",
    "    df.loc[i, \"age\"] *= 10  # df is modified"
   ]
  },
  {
   "cell_type": "markdown",
   "metadata": {},
   "source": [
    "## Rows selection (filtering)\n",
    "\n"
   ]
  },
  {
   "cell_type": "markdown",
   "metadata": {},
   "source": [
    "simple logical filtering on numerical values\n",
    "\n"
   ]
  },
  {
   "cell_type": "code",
   "execution_count": null,
   "metadata": {},
   "outputs": [],
   "source": [
    "users[users.age < 20]        # only show users with age < 20\n",
    "young_bool = users.age < 20  # or, create a Series of booleans...\n",
    "young = users[young_bool]            # ...and use that Series to filter rows\n",
    "users[users.age < 20].job    # select one column from the filtered results\n",
    "print(young)"
   ]
  },
  {
   "cell_type": "markdown",
   "metadata": {},
   "source": [
    "simple logical filtering on categorial values\n",
    "\n"
   ]
  },
  {
   "cell_type": "code",
   "execution_count": null,
   "metadata": {},
   "outputs": [],
   "source": [
    "users[users.job == 'student']\n",
    "users[users.job.isin(['student', 'engineer'])]\n",
    "users[users['job'].str.contains(\"stu|scient\")]"
   ]
  },
  {
   "cell_type": "markdown",
   "metadata": {},
   "source": [
    "Advanced logical filtering\n",
    "\n"
   ]
  },
  {
   "cell_type": "code",
   "execution_count": null,
   "metadata": {},
   "outputs": [],
   "source": [
    "users[users.age < 20][['age', 'job']]            # select multiple columns\n",
    "users[(users.age > 20) & (users.gender == 'M')]  # use multiple conditions"
   ]
  },
  {
   "cell_type": "markdown",
   "metadata": {},
   "source": [
    "## Sorting\n",
    "\n"
   ]
  },
  {
   "cell_type": "code",
   "execution_count": null,
   "metadata": {},
   "outputs": [],
   "source": [
    "df = users.copy()\n",
    "\n",
    "df.age.sort_values()                      # only works for a Series\n",
    "df.sort_values(by='age')                  # sort rows by a specific column\n",
    "df.sort_values(by='age', ascending=False) # use descending order instead\n",
    "df.sort_values(by=['job', 'age'])         # sort by multiple columns\n",
    "df.sort_values(by=['job', 'age'], inplace=True) # modify df\n",
    "\n",
    "print(df)"
   ]
  },
  {
   "cell_type": "markdown",
   "metadata": {},
   "source": [
    "## Descriptive statistics\n",
    "\n",
    "Summarize all numeric columns\n",
    "\n"
   ]
  },
  {
   "cell_type": "code",
   "execution_count": null,
   "metadata": {},
   "outputs": [],
   "source": [
    "print(df.describe())"
   ]
  },
  {
   "cell_type": "markdown",
   "metadata": {},
   "source": [
    "Summarize all columns\n",
    "\n"
   ]
  },
  {
   "cell_type": "code",
   "execution_count": null,
   "metadata": {},
   "outputs": [],
   "source": [
    "print(df.describe(include='all'))\n",
    "print(df.describe(include=['object']))  # limit to one (or more) types"
   ]
  },
  {
   "cell_type": "markdown",
   "metadata": {},
   "source": [
    "Statistics per group (groupby)\n",
    "\n"
   ]
  },
  {
   "cell_type": "code",
   "execution_count": null,
   "metadata": {},
   "outputs": [],
   "source": [
    "print(df.groupby(\"job\").mean())\n",
    "\n",
    "print(df.groupby(\"job\")[\"age\"].mean())\n",
    "\n",
    "print(df.groupby(\"job\").describe(include='all'))"
   ]
  },
  {
   "cell_type": "markdown",
   "metadata": {},
   "source": [
    "Groupby in a loop\n",
    "\n"
   ]
  },
  {
   "cell_type": "code",
   "execution_count": null,
   "metadata": {},
   "outputs": [],
   "source": [
    "for grp, data in df.groupby(\"job\"):\n",
    "    print(grp, data)"
   ]
  },
  {
   "cell_type": "markdown",
   "metadata": {},
   "source": [
    "## Quality check\n",
    "\n",
    "### Remove duplicate data\n",
    "\n"
   ]
  },
  {
   "cell_type": "code",
   "execution_count": null,
   "metadata": {},
   "outputs": [],
   "source": [
    "df = users.append(users.iloc[0], ignore_index=True)\n",
    "\n",
    "print(df.duplicated())                 # Series of booleans\n",
    "# (True if a row is identical to a previous row)\n",
    "df.duplicated().sum()                  # count of duplicates\n",
    "df[df.duplicated()]                    # only show duplicates\n",
    "df.age.duplicated()                    # check a single column for duplicates\n",
    "df.duplicated(['age', 'gender']).sum() # specify columns for finding duplicates\n",
    "df = df.drop_duplicates()              # drop duplicate rows"
   ]
  },
  {
   "cell_type": "markdown",
   "metadata": {},
   "source": [
    "### Missing data\n",
    "\n"
   ]
  },
  {
   "cell_type": "code",
   "execution_count": null,
   "metadata": {},
   "outputs": [],
   "source": [
    "# Missing values are often just excluded\n",
    "df = users.copy()\n",
    "\n",
    "df.describe(include='all')\n",
    "\n",
    "# find missing values in a Series\n",
    "df.height.isnull()           # True if NaN, False otherwise\n",
    "df.height.notnull()          # False if NaN, True otherwise\n",
    "df[df.height.notnull()]      # only show rows where age is not NaN\n",
    "df.height.isnull().sum()     # count the missing values\n",
    "\n",
    "# find missing values in a DataFrame\n",
    "df.isnull()             # DataFrame of booleans\n",
    "df.isnull().sum()       # calculate the sum of each column"
   ]
  },
  {
   "cell_type": "markdown",
   "metadata": {},
   "source": [
    "Strategy 1: drop missing values\n",
    "\n"
   ]
  },
  {
   "cell_type": "code",
   "execution_count": null,
   "metadata": {},
   "outputs": [],
   "source": [
    "df.dropna()             # drop a row if ANY values are missing\n",
    "df.dropna(how='all')    # drop a row only if ALL values are missing"
   ]
  },
  {
   "cell_type": "markdown",
   "metadata": {},
   "source": [
    "Strategy 2: fill in missing values\n",
    "\n"
   ]
  },
  {
   "cell_type": "code",
   "execution_count": null,
   "metadata": {},
   "outputs": [],
   "source": [
    "df.height.mean()\n",
    "df = users.copy()\n",
    "df.loc[df.height.isnull(), \"height\"] = df[\"height\"].mean()\n",
    "\n",
    "print(df)"
   ]
  },
  {
   "cell_type": "markdown",
   "metadata": {},
   "source": [
    "## Operation: multiplication\n",
    "\n",
    "Multiplication of dataframe and other, element-wise\n",
    "\n"
   ]
  },
  {
   "cell_type": "code",
   "execution_count": null,
   "metadata": {},
   "outputs": [],
   "source": [
    "df = users.dropna()\n",
    "df.insert(0, 'random', np.arange(df.shape[0]))\n",
    "print(df)\n",
    "df[[\"age\", \"height\"]].multiply(df[\"random\"], axis=\"index\")"
   ]
  },
  {
   "cell_type": "markdown",
   "metadata": {},
   "source": [
    "## Renaming\n",
    "\n",
    "Rename columns\n",
    "\n"
   ]
  },
  {
   "cell_type": "code",
   "execution_count": null,
   "metadata": {},
   "outputs": [],
   "source": [
    "df = users.copy()\n",
    "df.rename(columns={'name': 'NAME'})"
   ]
  },
  {
   "cell_type": "markdown",
   "metadata": {},
   "source": [
    "Rename values\n",
    "\n"
   ]
  },
  {
   "cell_type": "code",
   "execution_count": null,
   "metadata": {},
   "outputs": [],
   "source": [
    "df.job = df.job.map({'student': 'etudiant', 'manager': 'manager',\n",
    "                     'engineer': 'ingenieur', 'scientist': 'scientific'})"
   ]
  },
  {
   "cell_type": "markdown",
   "metadata": {},
   "source": [
    "## Dealing with outliers\n",
    "\n"
   ]
  },
  {
   "cell_type": "code",
   "execution_count": null,
   "metadata": {},
   "outputs": [],
   "source": [
    "size = pd.Series(np.random.normal(loc=175, size=20, scale=10))\n",
    "# Corrupt the first 3 measures\n",
    "size[:3] += 500"
   ]
  },
  {
   "cell_type": "markdown",
   "metadata": {},
   "source": [
    "### Based on parametric statistics: use the mean\n",
    "\n",
    "Assume random variable follows the normal distribution\n",
    "Exclude data outside 3 standard-deviations:\n",
    "- Probability that a sample lies within 1 sd: 68.27%\n",
    "- Probability that a sample lies within 3 sd: 99.73% (68.27 + 2 * 15.73)\n",
    "\n"
   ]
  },
  {
   "cell_type": "code",
   "execution_count": null,
   "metadata": {},
   "outputs": [],
   "source": [
    "size_outlr_mean = size.copy()\n",
    "size_outlr_mean[((size - size.mean()).abs() > 3 * size.std())] = size.mean()\n",
    "print(size_outlr_mean.mean())"
   ]
  },
  {
   "cell_type": "markdown",
   "metadata": {},
   "source": [
    "### Based on non-parametric statistics: use the median\n",
    "\n",
    "Median absolute deviation (MAD), based on the median, is a robust non-parametric statistics.\n",
    "https://en.wikipedia.org/wiki/Median_absolute_deviation\n",
    "\n"
   ]
  },
  {
   "cell_type": "code",
   "execution_count": null,
   "metadata": {},
   "outputs": [],
   "source": [
    "mad = 1.4826 * np.median(np.abs(size - size.median()))\n",
    "size_outlr_mad = size.copy()\n",
    "\n",
    "size_outlr_mad[((size - size.median()).abs() > 3 * mad)] = size.median()\n",
    "print(size_outlr_mad.mean(), size_outlr_mad.median())"
   ]
  },
  {
   "cell_type": "markdown",
   "metadata": {},
   "source": [
    "## File I/O\n",
    "\n",
    "### csv\n",
    "\n"
   ]
  },
  {
   "cell_type": "code",
   "execution_count": null,
   "metadata": {},
   "outputs": [],
   "source": [
    "import tempfile, os.path\n",
    "\n",
    "tmpdir = tempfile.gettempdir()\n",
    "csv_filename = os.path.join(tmpdir, \"users.csv\")\n",
    "users.to_csv(csv_filename, index=False)\n",
    "other = pd.read_csv(csv_filename)"
   ]
  },
  {
   "cell_type": "markdown",
   "metadata": {},
   "source": [
    "### Read csv from url\n",
    "\n"
   ]
  },
  {
   "cell_type": "code",
   "execution_count": null,
   "metadata": {},
   "outputs": [],
   "source": [
    "url = 'https://github.com/duchesnay/pystatsml/raw/master/datasets/salary_table.csv'\n",
    "salary = pd.read_csv(url)"
   ]
  },
  {
   "cell_type": "markdown",
   "metadata": {},
   "source": [
    "### Excel\n",
    "\n"
   ]
  },
  {
   "cell_type": "code",
   "execution_count": null,
   "metadata": {},
   "outputs": [],
   "source": [
    "xls_filename = os.path.join(tmpdir, \"users.xlsx\")\n",
    "users.to_excel(xls_filename, sheet_name='users', index=False)\n",
    "\n",
    "pd.read_excel(xls_filename, sheet_name='users')\n",
    "\n",
    "# Multiple sheets\n",
    "with pd.ExcelWriter(xls_filename) as writer:\n",
    "    users.to_excel(writer, sheet_name='users', index=False)\n",
    "    df.to_excel(writer, sheet_name='salary', index=False)\n",
    "\n",
    "pd.read_excel(xls_filename, sheet_name='users')\n",
    "pd.read_excel(xls_filename, sheet_name='salary')"
   ]
  },
  {
   "cell_type": "markdown",
   "metadata": {},
   "source": [
    "### SQL (SQLite)\n",
    "\n"
   ]
  },
  {
   "cell_type": "code",
   "execution_count": null,
   "metadata": {},
   "outputs": [],
   "source": [
    "import pandas as pd\n",
    "import sqlite3\n",
    "\n",
    "db_filename = os.path.join(tmpdir, \"users.db\")"
   ]
  },
  {
   "cell_type": "markdown",
   "metadata": {},
   "source": [
    "Connect\n",
    "\n"
   ]
  },
  {
   "cell_type": "code",
   "execution_count": null,
   "metadata": {},
   "outputs": [],
   "source": [
    "conn = sqlite3.connect(db_filename)"
   ]
  },
  {
   "cell_type": "markdown",
   "metadata": {},
   "source": [
    "Creating tables with pandas\n",
    "\n"
   ]
  },
  {
   "cell_type": "code",
   "execution_count": null,
   "metadata": {},
   "outputs": [],
   "source": [
    "url = 'https://github.com/duchesnay/pystatsml/raw/master/datasets/salary_table.csv'\n",
    "salary = pd.read_csv(url)\n",
    "\n",
    "salary.to_sql(\"salary\", conn, if_exists=\"replace\")"
   ]
  },
  {
   "cell_type": "markdown",
   "metadata": {},
   "source": [
    "Push modifications\n",
    "\n"
   ]
  },
  {
   "cell_type": "code",
   "execution_count": null,
   "metadata": {},
   "outputs": [],
   "source": [
    "cur = conn.cursor()\n",
    "values = (100, 14000, 5,  'Bachelor', 'N')\n",
    "cur.execute(\"insert into salary values (?, ?, ?, ?, ?)\", values)\n",
    "conn.commit()"
   ]
  },
  {
   "cell_type": "markdown",
   "metadata": {},
   "source": [
    "Reading results into a pandas DataFrame\n",
    "\n"
   ]
  },
  {
   "cell_type": "code",
   "execution_count": null,
   "metadata": {},
   "outputs": [],
   "source": [
    "salary_sql = pd.read_sql_query(\"select * from salary;\", conn)\n",
    "print(salary_sql.head())\n",
    "\n",
    "pd.read_sql_query(\"select * from salary;\", conn).tail()\n",
    "pd.read_sql_query('select * from salary where salary>25000;', conn)\n",
    "pd.read_sql_query('select * from salary where experience=16;', conn)\n",
    "pd.read_sql_query('select * from salary where education=\"Master\";', conn)"
   ]
  },
  {
   "cell_type": "markdown",
   "metadata": {},
   "source": [
    "## Exercises\n",
    "\n",
    "### Data Frame\n",
    "\n",
    "1. Read the iris dataset at 'https://github.com/neurospin/pystatsml/tree/master/datasets/iris.csv'\n",
    "\n",
    "2. Print column names\n",
    "\n",
    "3. Get numerical columns\n",
    "\n",
    "4. For each species compute the mean of numerical columns and store it in  a ``stats`` table like:\n",
    "\n",
    "::\n",
    "\n",
    "          species  sepal_length  sepal_width  petal_length  petal_width\n",
    "    0      setosa         5.006        3.428         1.462        0.246\n",
    "    1  versicolor         5.936        2.770         4.260        1.326\n",
    "    2   virginica         6.588        2.974         5.552        2.026\n",
    "\n",
    "\n",
    "### Missing data\n",
    "\n",
    "Add some missing data to the previous table ``users``:\n",
    "\n"
   ]
  },
  {
   "cell_type": "code",
   "execution_count": null,
   "metadata": {},
   "outputs": [],
   "source": [
    "df = users.copy()\n",
    "df.loc[[0, 2], \"age\"] = None\n",
    "df.loc[[1, 3], \"gender\"] = None"
   ]
  },
  {
   "cell_type": "markdown",
   "metadata": {},
   "source": [
    "1. Write a function ``fillmissing_with_mean(df)`` that fill all missing\n",
    "value of numerical column with the mean of the current columns.\n",
    "\n",
    "2. Save the original users and \"imputed\" frame in a single excel file\n",
    "\"users.xlsx\" with 2 sheets: original, imputed.\n",
    "\n"
   ]
  }
 ],
 "metadata": {
  "kernelspec": {
   "display_name": "Python 3 (ipykernel)",
   "language": "python",
   "name": "python3"
  },
  "language_info": {
   "codemirror_mode": {
    "name": "ipython",
    "version": 3
   },
   "file_extension": ".py",
   "mimetype": "text/x-python",
   "name": "python",
   "nbconvert_exporter": "python",
   "pygments_lexer": "ipython3",
   "version": "3.9.13"
  }
 },
 "nbformat": 4,
 "nbformat_minor": 1
}
